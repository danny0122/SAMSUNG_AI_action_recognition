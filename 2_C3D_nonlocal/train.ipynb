{
 "cells": [
  {
   "cell_type": "code",
   "execution_count": null,
   "metadata": {},
   "outputs": [],
   "source": [
    "import torch\n",
    "import numpy as np\n",
    "from C3D import C3D\n",
    "import time\n",
    "import data_processing_sol as data_processing\n",
    "import os\n",
    "import os.path\n",
    "from os.path import join\n",
    "import pickle\n",
    "from torch.utils.data import DataLoader\n",
    "from torch.nn import functional as F\n",
    "\n",
    "#Run the code using selected GPU\n",
    "os.environ[\"CUDA_DEVICE_ORDER\"] = \"PCI_BUS_ID\"\n",
    "os.environ[\"CUDA_VISIBLE_DEVICES\"] = \"0\"\n",
    "\n",
    "TRAIN_CHECK_POINT = 'check_point/'\n",
    "\n",
    "#Experiment, Optimization options\n",
    "DATA_SPLIT_PATH = 'data_split.pkl'\n",
    "BATCH_SIZE = 10\n",
    "NUM_CLASSES = 11\n",
    "CROP_SIZE = 112\n",
    "CHANNEL_NUM = 3\n",
    "CLIP_LENGTH = 16\n",
    "EPOCH_NUM = 50\n",
    "LEARNING_RATE = 1e-4"
   ]
  },
  {
   "cell_type": "markdown",
   "metadata": {},
   "source": [
    "## 1) Load UCF11(UCF YouTube Action) Dataset Path"
   ]
  },
  {
   "cell_type": "code",
   "execution_count": null,
   "metadata": {},
   "outputs": [],
   "source": [
    "DATA_SPLIT_PATH = 'data_split.pkl'\n",
    "ucf11_dataset = pickle.load(open(DATA_SPLIT_PATH,'rb'))\n",
    "train_set = ucf11_dataset['train']\n",
    "test_set = ucf11_dataset['test']"
   ]
  },
  {
   "cell_type": "markdown",
   "metadata": {},
   "source": [
    "## 2) Set Dataset and Dataloader"
   ]
  },
  {
   "cell_type": "code",
   "execution_count": null,
   "metadata": {},
   "outputs": [],
   "source": [
    "train_video_dataset = data_processing.UCF11Dataset(train_set, NUM_CLASSES)\n",
    "test_video_dataset = data_processing.UCF11Dataset(test_set, NUM_CLASSES)\n",
    "\n",
    "train_video_dataloader = DataLoader(train_video_dataset, batch_size = BATCH_SIZE, shuffle=True)\n",
    "test_video_dataloader = DataLoader(test_video_dataset, batch_size = BATCH_SIZE, shuffle=True)"
   ]
  },
  {
   "cell_type": "markdown",
   "metadata": {},
   "source": [
    "## 3) Set Network and Optimizer"
   ]
  },
  {
   "cell_type": "code",
   "execution_count": null,
   "metadata": {},
   "outputs": [],
   "source": [
    "net = C3D(num_classes=NUM_CLASSES)\n",
    "net = net.cuda()\n",
    "\n",
    "optimizer = torch.optim.Adam(net.parameters(), lr=LEARNING_RATE)"
   ]
  },
  {
   "cell_type": "markdown",
   "metadata": {},
   "source": [
    "### - Train and Test C3D"
   ]
  },
  {
   "cell_type": "code",
   "execution_count": null,
   "metadata": {
    "tags": []
   },
   "outputs": [],
   "source": [
    "for epoch in range(EPOCH_NUM):\n",
    "    # train\n",
    "    correct_epoch = 0\n",
    "    loss_epoch = 0\n",
    "    net.train()\n",
    "    \n",
    "    for i, batch in enumerate(train_video_dataloader):        \n",
    "        batch_clips = batch['clips']\n",
    "        batch_labels = batch['labels']\n",
    "        batch_clips = batch_clips.cuda()\n",
    "        batch_labels = batch_labels.cuda()\n",
    "        \n",
    "        logits = net(batch_clips)                \n",
    "\n",
    "        loss = F.cross_entropy(logits, batch_labels)\n",
    "        correct = (torch.argmax(logits, 1) == batch_labels).sum()\n",
    "        \n",
    "        optimizer.zero_grad()\n",
    "        loss.backward()\n",
    "        optimizer.step()\n",
    "        \n",
    "        loss_epoch += loss\n",
    "        correct_epoch += correct\n",
    "        \n",
    "        if i % 10 == 0:\n",
    "            print('Epoch %d, Batch %d: Loss is %.5f; Accuracy is %.5f'%(epoch+1, i, loss, correct/batch_clips.shape[0]))\n",
    "            \n",
    "    print('Epoch %d: Average loss is: %.5f; Average accuracy is: %.5f'%(epoch+1, loss_epoch / len(train_video_dataloader),\n",
    "                                                                                correct_epoch / len(train_video_dataset)))\n",
    "                \n",
    "    # test\n",
    "    correct_epoch = 0\n",
    "    loss_epoch = 0\n",
    "    net.eval()\n",
    "    \n",
    "    with torch.no_grad():\n",
    "        for i, batch in enumerate(test_video_dataloader):\n",
    "            batch_clips = batch['clips']\n",
    "            batch_labels = batch['labels']\n",
    "            batch_clips = batch_clips.cuda()\n",
    "            batch_labels = batch_labels.cuda()\n",
    "\n",
    "            logits = net(batch_clips)\n",
    "\n",
    "            loss = F.cross_entropy(logits, batch_labels)\n",
    "            correct = (torch.argmax(logits, 1) == batch_labels).sum()    \n",
    "\n",
    "            loss_epoch += loss\n",
    "            correct_epoch += correct\n",
    "        \n",
    "    print('Test loss is %.5f; Accuracy is %.5f'%(loss_epoch / len(test_video_dataloader),\n",
    "                                                                                correct_epoch / len(test_video_dataset)))\n"
   ]
  },
  {
   "cell_type": "markdown",
   "metadata": {},
   "source": [
    "### "
   ]
  }
 ],
 "metadata": {
  "kernelspec": {
   "display_name": "Python [conda env:action_tutorial2] *",
   "language": "python",
   "name": "conda-env-action_tutorial2-py"
  },
  "language_info": {
   "codemirror_mode": {
    "name": "ipython",
    "version": 3
   },
   "file_extension": ".py",
   "mimetype": "text/x-python",
   "name": "python",
   "nbconvert_exporter": "python",
   "pygments_lexer": "ipython3",
   "version": "3.7.10"
  }
 },
 "nbformat": 4,
 "nbformat_minor": 4
}
